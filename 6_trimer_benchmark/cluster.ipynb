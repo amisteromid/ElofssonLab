{
 "cells": [
  {
   "cell_type": "code",
   "execution_count": 4,
   "id": "6166365f",
   "metadata": {},
   "outputs": [],
   "source": [
    "import pandas as pd\n",
    "import numpy as np\n",
    "import matplotlib.pyplot as plt\n",
    "import seaborn as sns\n",
    "import ast"
   ]
  },
  {
   "cell_type": "code",
   "execution_count": 22,
   "id": "5f0a62c6",
   "metadata": {},
   "outputs": [],
   "source": [
    "msa='''>A\n",
    "MAE-R--GYSFSLTTFSPSGKLVQIEYALAAVAGG-APSVGIKAANGVVLATEKKQKS-ILYDERSVHKVEPITKHIGLVYSGMGPDYRVLVHRARKLAQQYY-LVYQEPIPTAQLVQRVASVMQEYT-----QSGGVRPFGVSLLICGWNE--GRPYLFQSDPSGAYFAWK-ATAMGKNYVNGKTFLEKRYN---------E--DLELEDAIHTAILTLKESFEG--Q-MTEDNIEVGICNEA----GFRRLT------PTEVKDYLAAI----A------------------------------------\n",
    ">J\n",
    "----------------------------------M-EYLIGIQGPDYVLVASDRVAASNIVQMKDDHDKMFKMSEKILLLCVGEAGDTVQFAEYIQKNVQLYK-MRNGYELSPTAAANFTRRNLADCL-------RSRTPYHVNLLLAGYDEH-EGPALYYMDYLAALAKAP-FAAHGYGAFLTLSILDRYYT---------P--TISRERAVELLRKCLEELQKRF-I-LNLPTFSVRIIDKN----GIHDLD------NISFPK--Q--------------------------GS---------------\n",
    ">K\n",
    "------------------------------------TTTLAFKFRHGVIVAADSRATAGAYIASQTVKKVIEINPYLLGTMAGGAADCSFWERLLARQCRIYE-LRNKERISVAAASKLLANMVYQYK---------GMGLSMGTMICGWDKR--GPGLYYVDSEGNRISGA-TFSVGSGSVYAYGVMDRGYS---------Y--DLEVEQAYDLARRAIYQATYRD-A-YSGGAVNLYHVRED----GWIR---VS---SDNVADLHEKYSG-STP-----------------------------------\n",
    ">L\n",
    "--------------RFS------------PYVFNG-GTILAIAGEDFAIVASDTRLSEGFSIHTRDSPKCYKLTDKTVIGCSGFHGDCLTLTKIIEARLKMYK-HSNNKAMTTGAIAAMLSTILYSRR---------FFPYYVYNIIGGLDEE-GKGAVYSFDPVGSYQRD-SFKAGGSASAMLQPLLDNQVGFKNMQNVEHV--PLSLDRAMRLVKDVFISAAERD-V-YTGDALRICIVTKE----GIREET-VSLRK--------------------------------------------------D-\n",
    ">a\n",
    "--------------TQ-------------NPMVTG-TSVLGVKFEGGVVIAADMLGSYGSLARFRNISRIMRVNNSTMLGASGDYADFQYLKQVLGQMVIDEELLGDGHSYSPRAIHSWLTRAMYSRR-------SKMNPLWNTMVIGGYADG--ESFLGYVDMLGVAYEAP-SLATGYGAYLAQPLLREVLEKQ-------P--VLSQTEARDLVERCMRVLYYRD-A-RSYNRFQIATVTEK----GVEIEGPLSTETNWDIAHMISGF----E------------------------------------\n",
    ">b\n",
    "------------------------------------TTIMAVQFDGGVVLGADSRTTTGSYIANRVTDKLTPIHDRIFCCRSGSAADTQAVADAVTYQLGFHS-IELNEPPLVHTAASLFKEMCYRYR----------EDLMAGIIIAGWDPQ-EGGQVYSVPMGGMMVRQS-FAIGGSGSSYIYGYVDATYR---------E--GMTKEECLQFTANALALAMERD-G-SSGGVIRLAAIAES----GVERQV-LL---GDQIPKFAVATLPPA-------------------------------------\n",
    ">B\n",
    "MSR----RYDSRTTIFSPEGRLYQVEYAMEAIGHA-GTCLGILANDGVLLAAERRNIHKLLDEVFFSEKIYKLNEDMACSVAGITSDANVLTNELRLIAQRYL-LQYQEPIPCEQLVTALCDIKQAYT-----QFGGKRPFGVSLLYIGWDKH-YGFQLYQSDPSGNYGGWK-ATCIGNNSAAAVSMLKQDYK---------EG-EMTLKSALALAIKVLNKTMDV--SKLSAEKVEIATLTRENGKTVIRVLK------QKEVEQLIKKH----EEEEAKAEREKKEKEQKEKDK----------------\n",
    ">C\n",
    "M------SYDRAITVFSPDGHLFQVEYAQEAVKKG-STAVGVRGRDIVVLGVEKKSVA-KLQDERTVRKICALDDNVCMAFAGLTADARIVINRARVECQSHR-LTVEDPVTVEYITRYIASLKQRYT-----QSNGRRPFGISALIVGFDFD-GTPRLYQTDPSGTYHAWK-ANAIGRGAKSVREFLEKNYT---------DEAIETDDLTIKLVIKALLEVVQ-----SGGKNIELAVMRRDQ---SLKILN------PEEIEKYVAEI----EKEK--EENEKKKQK--K-AS----------------\n",
    ">D\n",
    "MFL-TRSEYDRGVNTFSPEGRLFQVEYAIEAIKLG-STAIGIQTSEGVCLAVEKRITS-PLMEPSSIEKIVEIDAHIGCAMSGLIADAKTLIDKARVETQNHW-FTYNETMTVESVTQAVSNLALQFGEEDADPGAMSRPFGVALLFGGVDE--KGPQLFHMDPSGTFVQCD-ARAIGSASEGAQSSLQEVYH---------K--SMTLKEAIKSSLIILKQVMEE--K-LNATNIELATVQPG---QNFHMFT------KEELEEVIKD-------------------------I----------------\n",
    ">E\n",
    "MFR---NQYDNDVTVWSPQGRIHQIEYAMEAVKQG-SATVGLKSKTHAVLVALKRAQS-ELA--AHQKKILHVDNHIGISIAGLTADARLLCNFMRQECLDSR-FVFDRPLPVSRLVSLIGSKTQIPT-----QRYGRRPYGVGLLIAGYDDM--GPHIFQTCPSANYFDCR-AMSIGARSQSARTYLERHMS---------EFMECNLNELVKHGLRALRETLPAEQD-LTTKNVSIGIVGKDL---EFTIYD------DDDVSPFLEGL----EER-------PQRKA--Q-PAQPADEPAEKADEPMEH\n",
    ">F\n",
    "MSS-IGTGYDLSASTFSPDGRVFQVEYAMKAVENS-STAIGIRCKDGVVFGVEKLVLS-KLYEEGSNKRLFNVDRHVGMAVAGLLADARSLADIAREEASNFR-SNFGYNIPLKHLADRVAMYVHAYT-----LYSAVRPFGCSFMLGSYSVN-DGAQLYMIDPSGVSYGYW-GCAIGKARQAAKTEIEKLQM---------K--EMTCRDIVKEVAKIIYIVHDEV-K-DKAFELELSWVGELTN-GRHEIVP------KDIREEAEKYA----KESL---K-EEDESD--D-D-----------NM----\n",
    ">G\n",
    "MSRGSSAGFDRHITIFSPEGRLYQVEYAFKAINQGGLTSVAVRGKDCAVIVTQKKVPD-KLLDSSTVTHLFKITENIGCVMTGMTADSRSQVQRARYEAANWK-YKYGYEIPVDMLCKRIADISQVYT-----QNAEMRPLGCCMILIGIDEE-QGPQVYKCDPAGYYCGFK-ATAAGVKQTESTSFLEKKVK---------KKFDWTFEQTVETAITCLSTVLS-I-D-FKPSEIEVGVVTVEN--PKFRILT------EAEIDAHLVAL----AER-----------------------------D----\n",
    ">H\n",
    "------------------------------------TTIAGVVYKDGIVLGADTRATEGMVVADKNCSKIHFISPNIYCCGAGTAADTDMTTQLISSNLELHS-LSTGRLPRVVTANRMLKQMLFRYQ----------GYIGAALVLGGVDVT--GPHLYSIYPHGSTDKLP-YVTMGSGSLAAMAVFEDKFR---------P--DMEEEEAKNLVSEAIAAGIFND-L-GSGSNIDLCVISKN----KLDFLR------PYTVPNKKGTR----LGRYRCEKGTTAVLTEKITPLEIEVLEETVQTMDTS-\n",
    ">I\n",
    "--------------M-S------------IMSYNG-GAVMAMKGKNCVAIAADRRFGIQAQMVTTDFQKIFPMGDRLYIGLAGLATDVQTVAQRLKFRLNLYE-LKEGRQIKPYTLMSMVANLLYEKR---------FGPYYTEPVIAGLDPKTFKPFICSLDLIGCPMVTDDFVVSGTCAEQMYGMCESLWE---------P--NMDPDHLFETISQAMLNAVDRD-A-VSGMGVIVHIIEKD----KITTRT-LKARM--------------------------------------------------D-'''\n",
    "msa=msa.split('>')[1:]\n",
    "msa=list(map(lambda x:x.split('\\n')[:2],msa))\n",
    "msa={a[0]:a[1] for a in msa}\n",
    "\n",
    "def map_res(lst,chain):\n",
    "    if lst==['']:\n",
    "        return []\n",
    "    seq=msa[chain]\n",
    "    new_lst=[]\n",
    "    for i in lst:\n",
    "        counter=0\n",
    "        for ii,res in enumerate(seq):\n",
    "            if res != '-':\n",
    "                counter += 1\n",
    "                if counter==int(i):\n",
    "                    new_lst.append(ii+1)\n",
    "    return new_lst"
   ]
  },
  {
   "cell_type": "code",
   "execution_count": 129,
   "id": "695a7373",
   "metadata": {},
   "outputs": [],
   "source": [
    "df = pd.read_csv('5LE5_trimers_residues_dataframe.txt')\n",
    "df['res12'] = df['res12'].apply(ast.literal_eval)\n",
    "df['res21'] = df['res21'].apply(ast.literal_eval)\n",
    "df['res13'] = df['res13'].apply(ast.literal_eval)\n",
    "df['res31'] = df['res31'].apply(ast.literal_eval)\n",
    "df['res23'] = df['res23'].apply(ast.literal_eval)\n",
    "df['res32'] = df['res32'].apply(ast.literal_eval)\n",
    "df = df.set_index('trimer')\n",
    "\n",
    "wrongs=['AGb', 'KLC', 'Lab', 'JKD', 'DEa', 'KLE', 'CDL', 'JKB', 'abH', 'abG', 'bHA', 'JKL', 'IJC', 'ABH', 'DEK', 'BCI', 'IJK', 'EFL', 'bHF', 'HIB', 'CDE', 'LaD', 'FGH', 'AGI', 'BCK', 'ABJ', 'DEF', 'abE', 'IJA', 'CDJ']\n",
    "\n",
    "for _, row in df.iterrows():\n",
    "    chain1,chain2,chain3=_[0],_[1],_[2]\n",
    "    df.loc[_,'res12'] = map_res(row['res12'],chain1)\n",
    "    df.loc[_,'res21'] = map_res(row['res21'],chain2)\n",
    "    df.loc[_,'res13'] = map_res(row['res13'],chain1)\n",
    "    df.loc[_,'res31'] = map_res(row['res31'],chain3)\n",
    "    df.loc[_,'res23'] = map_res(row['res23'],chain2)\n",
    "    df.loc[_,'res32'] = map_res(row['res32'],chain3)\n",
    "    \n",
    "#df[df.index=='FGA']"
   ]
  },
  {
   "cell_type": "code",
   "execution_count": 94,
   "id": "36c312d8",
   "metadata": {},
   "outputs": [],
   "source": [
    "pairs_dic={}\n",
    "\n",
    "for _, row in df.iterrows():\n",
    "    chain1,chain2,chain3=_[0],_[1],_[2]\n",
    "    if chain1 not in pairs_dic:\n",
    "        pairs_dic[chain1]={chain1+chain2+chain3:row['res12']+row['res21'],chain1+chain3+chain2:row['res13']+row['res31']}\n",
    "    else:\n",
    "        pairs_dic[chain1][chain1+chain2+chain3]=row['res12']+row['res21']\n",
    "        pairs_dic[chain1][chain1+chain3+chain2]=row['res13']+row['res31']\n",
    "    \n",
    "    if chain2 not in pairs_dic:\n",
    "        pairs_dic[chain2]={chain2+chain1+chain3:row['res21']+row['res12'],chain2+chain3+chain1:row['res23']+row['res32']}\n",
    "    else:\n",
    "        pairs_dic[chain2][chain2+chain1+chain3]=row['res21']+row['res12']\n",
    "        pairs_dic[chain2][chain2+chain3+chain1]=row['res23']+row['res32']\n",
    "        \n",
    "    if chain3 not in pairs_dic:\n",
    "        pairs_dic[chain3]={chain3+chain2+chain3:row['res32']+row['res23'],chain3+chain1+chain2:row['res31']+row['res13']}\n",
    "    else:\n",
    "        pairs_dic[chain3][chain3+chain1+chain2]=row['res31']+row['res13']\n",
    "        pairs_dic[chain3][chain3+chain2+chain1]=row['res32']+row['res23']"
   ]
  },
  {
   "cell_type": "code",
   "execution_count": 106,
   "id": "d24eb665",
   "metadata": {},
   "outputs": [],
   "source": [
    "interfaces_dic={}\n",
    "\n",
    "for _, row in df.iterrows():\n",
    "    chain1,chain2,chain3=_[0],_[1],_[2]\n",
    "    if chain1 not in interfaces_dic:\n",
    "        interfaces_dic[chain1]={chain1+chain2+chain3:row['res12'],chain1+chain3+chain2:row['res13']}\n",
    "    else:\n",
    "        interfaces_dic[chain1][chain1+chain2+chain3]=row['res12']\n",
    "        interfaces_dic[chain1][chain1+chain3+chain2]=row['res13']\n",
    "    \n",
    "    if chain2 not in interfaces_dic:\n",
    "        interfaces_dic[chain2]={chain2+chain1+chain3:row['res21'],chain2+chain3+chain1:row['res23']}\n",
    "    else:\n",
    "        interfaces_dic[chain2][chain2+chain1+chain3]=row['res21']\n",
    "        interfaces_dic[chain2][chain2+chain3+chain1]=row['res23']\n",
    "        \n",
    "    if chain3 not in interfaces_dic:\n",
    "        interfaces_dic[chain3]={chain3+chain2+chain1:row['res32'],chain3+chain1+chain2:row['res31']}\n",
    "    else:\n",
    "        interfaces_dic[chain3][chain3+chain1+chain2]=row['res31']\n",
    "        interfaces_dic[chain3][chain3+chain2+chain1]=row['res32']"
   ]
  },
  {
   "cell_type": "code",
   "execution_count": 99,
   "id": "ec4d556d",
   "metadata": {},
   "outputs": [],
   "source": [
    "#df[(df.index.str.contains('H')) & (df.index.str.contains('A'))]"
   ]
  },
  {
   "cell_type": "code",
   "execution_count": 133,
   "id": "6088ab41",
   "metadata": {
    "scrolled": false
   },
   "outputs": [
    {
     "data": {
      "text/plain": [
       "<seaborn.matrix.ClusterGrid at 0x1ed44863040>"
      ]
     },
     "execution_count": 133,
     "metadata": {},
     "output_type": "execute_result"
    },
    {
     "data": {
      "image/png": "[encoded data removed]",
      "text/plain": [
       "<Figure size 720x720 with 5 Axes>"
      ]
     },
     "metadata": {
      "needs_background": "light"
     },
     "output_type": "display_data"
    }
   ],
   "source": [
    "A = interfaces_dic['B']\n",
    "\n",
    "residues = []\n",
    "for i in A: residues.extend(A[i])\n",
    "All_residues = list(set(residues))\n",
    "All_trimers = list(A.keys())\n",
    "\n",
    "M=np.zeros((len(All_residues),len(All_trimers)))\n",
    "for trimer in All_trimers:\n",
    "    for res in A[trimer]:\n",
    "        cn=All_trimers.index(trimer)\n",
    "        rn=All_residues.index(res)\n",
    "        M[rn,cn]+=1\n",
    "M=pd.DataFrame(M, index=All_residues, columns= All_trimers)\n",
    "color_map={}\n",
    "for i in All_trimers:\n",
    "    if i in wrongs or i[0]+i[2]+i[1] in wrongs or i[1]+i[2]+i[0] in wrongs or i[1]+i[0]+i[2] in wrongs or i[2]+i[0]+i[1] in wrongs or i[2]+i[1]+i[0] in wrongs:\n",
    "        color_map[i]='red'\n",
    "    else:\n",
    "        color_map[i]='green'\n",
    "sns.clustermap(M,figsize=(10, 10),col_colors=M.columns.map(color_map))"
   ]
  }
 ],
 "metadata": {
  "kernelspec": {
   "display_name": "Python 3 (ipykernel)",
   "language": "python",
   "name": "python3"
  },
  "language_info": {
   "codemirror_mode": {
    "name": "ipython",
    "version": 3
   },
   "file_extension": ".py",
   "mimetype": "text/x-python",
   "name": "python",
   "nbconvert_exporter": "python",
   "pygments_lexer": "ipython3",
   "version": "3.9.7"
  }
 },
 "nbformat": 4,
 "nbformat_minor": 5
}
